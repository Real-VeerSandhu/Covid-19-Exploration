{
 "metadata": {
  "language_info": {
   "codemirror_mode": {
    "name": "ipython",
    "version": 3
   },
   "file_extension": ".py",
   "mimetype": "text/x-python",
   "name": "python",
   "nbconvert_exporter": "python",
   "pygments_lexer": "ipython3",
   "version": "3.8.3"
  },
  "orig_nbformat": 2,
  "kernelspec": {
   "name": "python383jvsc74a57bd0b3ba2566441a7c06988d0923437866b63cedc61552a5af99d1f4fb67d367b25f",
   "display_name": "Python 3.8.3 64-bit ('base': conda)"
  }
 },
 "nbformat": 4,
 "nbformat_minor": 2,
 "cells": [
  {
   "cell_type": "code",
   "execution_count": 3,
   "metadata": {},
   "outputs": [],
   "source": [
    "import pandas as pd\n",
    "import matplotlib.pyplot as plt     \n",
    "import seaborn as sns \n",
    "import warnings\n",
    "\n",
    "warnings.filterwarnings(\"ignore\")"
   ]
  },
  {
   "cell_type": "code",
   "execution_count": 4,
   "metadata": {},
   "outputs": [],
   "source": [
    "assessment_centre_df = pd.read_csv('data/assessment_centre_locations.csv')\n",
    "covid_vaccine_df = pd.read_csv('data/COVID-19 Vaccine Data.csv')\n",
    "covid_testing_df = pd.read_csv('data/covidtesting.csv')\n",
    "positive_age_df = pd.read_csv('data\\percent_positive_by_agegrp.csv')"
   ]
  },
  {
   "cell_type": "code",
   "execution_count": 9,
   "metadata": {},
   "outputs": [
    {
     "output_type": "execute_result",
     "data": {
      "text/plain": [
       "(2765, 50)"
      ]
     },
     "metadata": {},
     "execution_count": 9
    }
   ],
   "source": [
    "assessment_centre_df.shape"
   ]
  },
  {
   "cell_type": "code",
   "execution_count": 8,
   "metadata": {},
   "outputs": [
    {
     "output_type": "execute_result",
     "data": {
      "text/plain": [
       "active                       2030\n",
       "location_id                     0\n",
       "location_name                   0\n",
       "location_name_fr             2618\n",
       "operated_by                  2002\n",
       "operated_by_fr               2604\n",
       "city                            0\n",
       "address                         2\n",
       "address_fr                   2422\n",
       "postal_code                     0\n",
       "province                        0\n",
       "latitude                        1\n",
       "longitude                       1\n",
       "phu_id                       2601\n",
       "phu                             0\n",
       "phu_fr                       2386\n",
       "phone                        1319\n",
       "website                       216\n",
       "monday                         40\n",
       "tuesday                        40\n",
       "wednesday                      35\n",
       "thursday                       42\n",
       "friday                         38\n",
       "saturday                      116\n",
       "sunday                        220\n",
       "after_hours                  2716\n",
       "appointments                    2\n",
       "walk_ins                       29\n",
       "drive_through                2532\n",
       "children_under_2             2603\n",
       "accessible                   2634\n",
       "temporarily_closed           2755\n",
       "pharmacy                      246\n",
       "community_lab                2758\n",
       "assessment_centre            2527\n",
       "email                        2759\n",
       "online_appointments           380\n",
       "phone_appointments            200\n",
       "symptomatic                  2575\n",
       "general_population           2745\n",
       "age_threshold                2541\n",
       "weeks_pregnant               2763\n",
       "french_language_services     2619\n",
       "asl_interpretation           2646\n",
       "first_nations                2757\n",
       "free_parking                 2659\n",
       "paid_parking                 2736\n",
       "public_transit               2643\n",
       "additional_information       2507\n",
       "additional_information_fr    2691\n",
       "dtype: int64"
      ]
     },
     "metadata": {},
     "execution_count": 8
    }
   ],
   "source": [
    "assessment_centre_df.isnull().sum()"
   ]
  },
  {
   "cell_type": "code",
   "execution_count": 12,
   "metadata": {},
   "outputs": [
    {
     "output_type": "execute_result",
     "data": {
      "text/plain": [
       "     _id          report_date  previous_day_total_doses_administered  \\\n",
       "0      1  2020-12-24T00:00:00                                    NaN   \n",
       "1      2  2020-12-30T00:00:00                                 7847.0   \n",
       "2      3  2020-12-31T00:00:00                                 4899.0   \n",
       "3      4  2021-01-01T00:00:00                                 5385.0   \n",
       "4      5  2021-01-02T00:00:00                                 4304.0   \n",
       "..   ...                  ...                                    ...   \n",
       "161  162  2021-06-08T00:00:00                               158209.0   \n",
       "162  163  2021-06-09T00:00:00                               177506.0   \n",
       "163  164  2021-06-10T00:00:00                               182350.0   \n",
       "164  165  2021-06-11T00:00:00                               199951.0   \n",
       "165  166  2021-06-12T00:00:00                               195032.0   \n",
       "\n",
       "     previous_day_at_least_one  previous_day_fully_vaccinated  \\\n",
       "0                          NaN                            NaN   \n",
       "1                          NaN                            NaN   \n",
       "2                          NaN                            NaN   \n",
       "3                          NaN                            NaN   \n",
       "4                          NaN                            NaN   \n",
       "..                         ...                            ...   \n",
       "161                    70684.0                        87525.0   \n",
       "162                    69160.0                       108346.0   \n",
       "163                    65250.0                       117100.0   \n",
       "164                    65985.0                       133966.0   \n",
       "165                    61013.0                       134019.0   \n",
       "\n",
       "     total_doses_administered  total_individuals_at_least_one  \\\n",
       "0                       10756                             NaN   \n",
       "1                       18603                             NaN   \n",
       "2                       23502                             NaN   \n",
       "3                       28887                             NaN   \n",
       "4                       33191                             NaN   \n",
       "..                        ...                             ...   \n",
       "161                  10267613                       9093283.0   \n",
       "162                  10445119                       9162443.0   \n",
       "163                  10627469                       9227693.0   \n",
       "164                  10827420                       9293678.0   \n",
       "165                  11022452                       9354691.0   \n",
       "\n",
       "     total_doses_in_fully_vaccinated_individuals  \\\n",
       "0                                            NaN   \n",
       "1                                            NaN   \n",
       "2                                            NaN   \n",
       "3                                            NaN   \n",
       "4                                            NaN   \n",
       "..                                           ...   \n",
       "161                                    2348660.0   \n",
       "162                                    2565352.0   \n",
       "163                                    2799552.0   \n",
       "164                                    3067484.0   \n",
       "165                                    3335522.0   \n",
       "\n",
       "     total_individuals_fully_vaccinated  \n",
       "0                                   NaN  \n",
       "1                                   NaN  \n",
       "2                                   NaN  \n",
       "3                                   NaN  \n",
       "4                                   NaN  \n",
       "..                                  ...  \n",
       "161                           1174330.0  \n",
       "162                           1282676.0  \n",
       "163                           1399776.0  \n",
       "164                           1533742.0  \n",
       "165                           1667761.0  \n",
       "\n",
       "[166 rows x 9 columns]"
      ],
      "text/html": "<div>\n<style scoped>\n    .dataframe tbody tr th:only-of-type {\n        vertical-align: middle;\n    }\n\n    .dataframe tbody tr th {\n        vertical-align: top;\n    }\n\n    .dataframe thead th {\n        text-align: right;\n    }\n</style>\n<table border=\"1\" class=\"dataframe\">\n  <thead>\n    <tr style=\"text-align: right;\">\n      <th></th>\n      <th>_id</th>\n      <th>report_date</th>\n      <th>previous_day_total_doses_administered</th>\n      <th>previous_day_at_least_one</th>\n      <th>previous_day_fully_vaccinated</th>\n      <th>total_doses_administered</th>\n      <th>total_individuals_at_least_one</th>\n      <th>total_doses_in_fully_vaccinated_individuals</th>\n      <th>total_individuals_fully_vaccinated</th>\n    </tr>\n  </thead>\n  <tbody>\n    <tr>\n      <th>0</th>\n      <td>1</td>\n      <td>2020-12-24T00:00:00</td>\n      <td>NaN</td>\n      <td>NaN</td>\n      <td>NaN</td>\n      <td>10756</td>\n      <td>NaN</td>\n      <td>NaN</td>\n      <td>NaN</td>\n    </tr>\n    <tr>\n      <th>1</th>\n      <td>2</td>\n      <td>2020-12-30T00:00:00</td>\n      <td>7847.0</td>\n      <td>NaN</td>\n      <td>NaN</td>\n      <td>18603</td>\n      <td>NaN</td>\n      <td>NaN</td>\n      <td>NaN</td>\n    </tr>\n    <tr>\n      <th>2</th>\n      <td>3</td>\n      <td>2020-12-31T00:00:00</td>\n      <td>4899.0</td>\n      <td>NaN</td>\n      <td>NaN</td>\n      <td>23502</td>\n      <td>NaN</td>\n      <td>NaN</td>\n      <td>NaN</td>\n    </tr>\n    <tr>\n      <th>3</th>\n      <td>4</td>\n      <td>2021-01-01T00:00:00</td>\n      <td>5385.0</td>\n      <td>NaN</td>\n      <td>NaN</td>\n      <td>28887</td>\n      <td>NaN</td>\n      <td>NaN</td>\n      <td>NaN</td>\n    </tr>\n    <tr>\n      <th>4</th>\n      <td>5</td>\n      <td>2021-01-02T00:00:00</td>\n      <td>4304.0</td>\n      <td>NaN</td>\n      <td>NaN</td>\n      <td>33191</td>\n      <td>NaN</td>\n      <td>NaN</td>\n      <td>NaN</td>\n    </tr>\n    <tr>\n      <th>...</th>\n      <td>...</td>\n      <td>...</td>\n      <td>...</td>\n      <td>...</td>\n      <td>...</td>\n      <td>...</td>\n      <td>...</td>\n      <td>...</td>\n      <td>...</td>\n    </tr>\n    <tr>\n      <th>161</th>\n      <td>162</td>\n      <td>2021-06-08T00:00:00</td>\n      <td>158209.0</td>\n      <td>70684.0</td>\n      <td>87525.0</td>\n      <td>10267613</td>\n      <td>9093283.0</td>\n      <td>2348660.0</td>\n      <td>1174330.0</td>\n    </tr>\n    <tr>\n      <th>162</th>\n      <td>163</td>\n      <td>2021-06-09T00:00:00</td>\n      <td>177506.0</td>\n      <td>69160.0</td>\n      <td>108346.0</td>\n      <td>10445119</td>\n      <td>9162443.0</td>\n      <td>2565352.0</td>\n      <td>1282676.0</td>\n    </tr>\n    <tr>\n      <th>163</th>\n      <td>164</td>\n      <td>2021-06-10T00:00:00</td>\n      <td>182350.0</td>\n      <td>65250.0</td>\n      <td>117100.0</td>\n      <td>10627469</td>\n      <td>9227693.0</td>\n      <td>2799552.0</td>\n      <td>1399776.0</td>\n    </tr>\n    <tr>\n      <th>164</th>\n      <td>165</td>\n      <td>2021-06-11T00:00:00</td>\n      <td>199951.0</td>\n      <td>65985.0</td>\n      <td>133966.0</td>\n      <td>10827420</td>\n      <td>9293678.0</td>\n      <td>3067484.0</td>\n      <td>1533742.0</td>\n    </tr>\n    <tr>\n      <th>165</th>\n      <td>166</td>\n      <td>2021-06-12T00:00:00</td>\n      <td>195032.0</td>\n      <td>61013.0</td>\n      <td>134019.0</td>\n      <td>11022452</td>\n      <td>9354691.0</td>\n      <td>3335522.0</td>\n      <td>1667761.0</td>\n    </tr>\n  </tbody>\n</table>\n<p>166 rows × 9 columns</p>\n</div>"
     },
     "metadata": {},
     "execution_count": 12
    }
   ],
   "source": [
    "covid_vaccine_df"
   ]
  },
  {
   "cell_type": "code",
   "execution_count": 15,
   "metadata": {},
   "outputs": [
    {
     "output_type": "execute_result",
     "data": {
      "text/plain": [
       "Reported Date                                                  0\n",
       "Confirmed Negative                                           446\n",
       "Presumptive Negative                                         481\n",
       "Presumptive Positive                                         468\n",
       "Confirmed Positive                                             2\n",
       "Resolved                                                      12\n",
       "Deaths                                                        40\n",
       "Total Cases                                                    2\n",
       "Total patients approved for testing as of Reporting Date       6\n",
       "Total tests completed in the last day                         69\n",
       "Percent positive tests in last day                            73\n",
       "Under Investigation                                            0\n",
       "Number of patients hospitalized with COVID-19                 56\n",
       "Number of patients in ICU due to COVID-19                     86\n",
       "Number of patients in ICU, testing positive for COVID-19      56\n",
       "Number of patients in ICU, testing negative for COVID-19      86\n",
       "Number of patients in ICU on a ventilator due to COVID-19     86\n",
       "Num. of patients in ICU on a ventilator testing positive      56\n",
       "Num. of patients in ICU on a ventilator testing negative      86\n",
       "Total Positive LTC Resident Cases                            106\n",
       "Total Positive LTC HCW Cases                                 110\n",
       "Total LTC Resident Deaths                                    103\n",
       "Total LTC HCW Deaths                                         103\n",
       "Total_Lineage_B.1.1.7                                        358\n",
       "Total_Lineage_B.1.351                                        362\n",
       "Total_Lineage_P.1                                            374\n",
       "dtype: int64"
      ]
     },
     "metadata": {},
     "execution_count": 15
    }
   ],
   "source": [
    "covid_testing_df.isnull().sum()"
   ]
  },
  {
   "cell_type": "code",
   "execution_count": null,
   "metadata": {},
   "outputs": [],
   "source": []
  }
 ]
}