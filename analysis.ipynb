{
 "metadata": {
  "language_info": {
   "codemirror_mode": {
    "name": "ipython",
    "version": 3
   },
   "file_extension": ".py",
   "mimetype": "text/x-python",
   "name": "python",
   "nbconvert_exporter": "python",
   "pygments_lexer": "ipython3",
   "version": "3.8.3"
  },
  "orig_nbformat": 2,
  "kernelspec": {
   "name": "python383jvsc74a57bd0b3ba2566441a7c06988d0923437866b63cedc61552a5af99d1f4fb67d367b25f",
   "display_name": "Python 3.8.3 64-bit ('base': conda)"
  }
 },
 "nbformat": 4,
 "nbformat_minor": 2,
 "cells": [
  {
   "cell_type": "code",
   "execution_count": 3,
   "metadata": {},
   "outputs": [],
   "source": [
    "import pandas as pd\n",
    "import matplotlib.pyplot as plt     \n",
    "import seaborn as sns \n",
    "import warnings\n",
    "\n",
    "warnings.filterwarnings(\"ignore\")"
   ]
  },
  {
   "cell_type": "code",
   "execution_count": 4,
   "metadata": {},
   "outputs": [],
   "source": [
    "assessment_centre_df = pd.read_csv('data/assessment_centre_locations.csv')\n",
    "covid_vaccine_df = pd.read_csv('data/COVID-19 Vaccine Data.csv')\n",
    "covid_testing_df = pd.read_csv('data/covidtesting.csv')\n",
    "positive_age_df = pd.read_csv('data\\percent_positive_by_agegrp.csv')"
   ]
  },
  {
   "cell_type": "code",
   "execution_count": 9,
   "metadata": {},
   "outputs": [
    {
     "output_type": "execute_result",
     "data": {
      "text/plain": [
       "(2765, 50)"
      ]
     },
     "metadata": {},
     "execution_count": 9
    }
   ],
   "source": [
    "assessment_centre_df.shape"
   ]
  },
  {
   "cell_type": "code",
   "execution_count": 19,
   "metadata": {},
   "outputs": [
    {
     "output_type": "execute_result",
     "data": {
      "text/plain": [
       "     active  location_id                                  location_name  \\\n",
       "0       Yes            1                  Blanche River Health-Kirkland   \n",
       "1       Yes            2  South Georgian Bay Regional Assessment Centre   \n",
       "2       Yes            3                      Midland Assessment Centre   \n",
       "3       Yes            4                       Milton District Hospital   \n",
       "4       Yes            5           Oakville Trafalgar Memorial Hospital   \n",
       "...     ...          ...                                            ...   \n",
       "2760    Yes         2783    SHN Covid-19 Assessment Centre - Birchmount   \n",
       "2761    NaN         2784                               Rexall Specialty   \n",
       "2762    NaN         2785                         Silverheights Pharmacy   \n",
       "2763    NaN         2786                        McKenzie's IDA Pharmacy   \n",
       "2764    Yes         2787               Rockcliffe Smythe Pop Up Testing   \n",
       "\n",
       "                          location_name_fr  \\\n",
       "0                                      NaN   \n",
       "1                                      NaN   \n",
       "2                Midland Assessment Centre   \n",
       "3            Hôpital du district de Milton   \n",
       "4     Oakville Trafalger Memorial Hospital   \n",
       "...                                    ...   \n",
       "2760                                   NaN   \n",
       "2761                                   NaN   \n",
       "2762                                   NaN   \n",
       "2763                                   NaN   \n",
       "2764                                   NaN   \n",
       "\n",
       "                                           operated_by  \\\n",
       "0            Blanche River Health (Kirkland Lake site)   \n",
       "1                      Georgian Bay Family Health Team   \n",
       "2                        Georgian Bay General Hospital   \n",
       "3                           Halton Healthcare Services   \n",
       "4                           Halton Healthcare Services   \n",
       "...                                                ...   \n",
       "2760  Scarborough Health Network - Birchmount Hospital   \n",
       "2761                                               NaN   \n",
       "2762                                               NaN   \n",
       "2763                                               NaN   \n",
       "2764                                   Access Alliance   \n",
       "\n",
       "                             operated_by_fr           city  \\\n",
       "0                                       NaN  Kirkland Lake   \n",
       "1                                       NaN    Collingwood   \n",
       "2     Hôpital général de la baie Georgienne        Midland   \n",
       "3                Halton Healthcare Services         Milton   \n",
       "4                Halton Healthcare Services       Oakville   \n",
       "...                                     ...            ...   \n",
       "2760                                    NaN        Toronto   \n",
       "2761                                    NaN         London   \n",
       "2762                                    NaN      Cambridge   \n",
       "2763                                    NaN        Wiarton   \n",
       "2764                                    NaN        Toronto   \n",
       "\n",
       "                             address                 address_fr postal_code  \\\n",
       "0           145 Government Road East  145 chemin Government Est     P2N 3P4   \n",
       "1                 490 Ontario Street                        NaN     L9Y 1N6   \n",
       "2             1156 St. Andrews Drive                        NaN     L4R 4P4   \n",
       "3            725 Bronte Street South         725 rue Bronte Sud     L9T 9K1   \n",
       "4                 3001 Hospital Gate         3001 Hospital Gate     L6M 0L8   \n",
       "...                              ...                        ...         ...   \n",
       "2760            3030 Birchmount Road                        NaN     M1W 3W3   \n",
       "2761  845 Consortium Court, Unit 841                        NaN     N6E 2S8   \n",
       "2762           165 Fisher Mills Road                        NaN     N3C 1E1   \n",
       "2763              608 Berford Street                        NaN     N0H 2T0   \n",
       "2764                 761 Jane Street                        NaN     M6N 4B4   \n",
       "\n",
       "      ... age_threshold  weeks_pregnant  french_language_services  \\\n",
       "0     ...           NaN             NaN                       NaN   \n",
       "1     ...            0m             NaN                        No   \n",
       "2     ...            0m             NaN                       Yes   \n",
       "3     ...            0m             NaN                        No   \n",
       "4     ...            0m             NaN                        No   \n",
       "...   ...           ...             ...                       ...   \n",
       "2760  ...            6m             NaN                       Yes   \n",
       "2761  ...           NaN             NaN                       NaN   \n",
       "2762  ...           NaN             NaN                       NaN   \n",
       "2763  ...           NaN             NaN                       NaN   \n",
       "2764  ...           NaN             NaN                       NaN   \n",
       "\n",
       "      asl_interpretation first_nations free_parking paid_parking  \\\n",
       "0                    NaN           NaN          NaN          NaN   \n",
       "1                     No           NaN           No          Yes   \n",
       "2                     No           NaN          Yes          NaN   \n",
       "3                     No           NaN          Yes          NaN   \n",
       "4                     No           NaN          Yes          NaN   \n",
       "...                  ...           ...          ...          ...   \n",
       "2760                 NaN           NaN          NaN          NaN   \n",
       "2761                 NaN           NaN          NaN          NaN   \n",
       "2762                 NaN           NaN          NaN          NaN   \n",
       "2763                 NaN           NaN          NaN          NaN   \n",
       "2764                 NaN           NaN          NaN          NaN   \n",
       "\n",
       "     public_transit                             additional_information  \\\n",
       "0               NaN  Please call to schedule an appointment. After ...   \n",
       "1               Yes  Located in the back parking lot Royal Canadian...   \n",
       "2               Yes  Please call to schedule an appointment after c...   \n",
       "3               Yes  Arrive at scheduled time (no more than 5 minut...   \n",
       "4               Yes  Please call to schedule an appointment. Arrive...   \n",
       "...             ...                                                ...   \n",
       "2760            NaN                                                NaN   \n",
       "2761            NaN                                                NaN   \n",
       "2762            NaN                                                NaN   \n",
       "2763            NaN                                                NaN   \n",
       "2764            NaN  Open Wednesday June 2, June 9, June 16, June 3...   \n",
       "\n",
       "                              additional_information_fr  \n",
       "0                                                   NaN  \n",
       "1     Situé dans la tente dans le stationnement de l...  \n",
       "2                                                   NaN  \n",
       "3                                                   NaN  \n",
       "4                                                   NaN  \n",
       "...                                                 ...  \n",
       "2760                                                NaN  \n",
       "2761                                                NaN  \n",
       "2762                                                NaN  \n",
       "2763                                                NaN  \n",
       "2764                                                NaN  \n",
       "\n",
       "[2765 rows x 50 columns]"
      ],
      "text/html": "<div>\n<style scoped>\n    .dataframe tbody tr th:only-of-type {\n        vertical-align: middle;\n    }\n\n    .dataframe tbody tr th {\n        vertical-align: top;\n    }\n\n    .dataframe thead th {\n        text-align: right;\n    }\n</style>\n<table border=\"1\" class=\"dataframe\">\n  <thead>\n    <tr style=\"text-align: right;\">\n      <th></th>\n      <th>active</th>\n      <th>location_id</th>\n      <th>location_name</th>\n      <th>location_name_fr</th>\n      <th>operated_by</th>\n      <th>operated_by_fr</th>\n      <th>city</th>\n      <th>address</th>\n      <th>address_fr</th>\n      <th>postal_code</th>\n      <th>...</th>\n      <th>age_threshold</th>\n      <th>weeks_pregnant</th>\n      <th>french_language_services</th>\n      <th>asl_interpretation</th>\n      <th>first_nations</th>\n      <th>free_parking</th>\n      <th>paid_parking</th>\n      <th>public_transit</th>\n      <th>additional_information</th>\n      <th>additional_information_fr</th>\n    </tr>\n  </thead>\n  <tbody>\n    <tr>\n      <th>0</th>\n      <td>Yes</td>\n      <td>1</td>\n      <td>Blanche River Health-Kirkland</td>\n      <td>NaN</td>\n      <td>Blanche River Health (Kirkland Lake site)</td>\n      <td>NaN</td>\n      <td>Kirkland Lake</td>\n      <td>145 Government Road East</td>\n      <td>145 chemin Government Est</td>\n      <td>P2N 3P4</td>\n      <td>...</td>\n      <td>NaN</td>\n      <td>NaN</td>\n      <td>NaN</td>\n      <td>NaN</td>\n      <td>NaN</td>\n      <td>NaN</td>\n      <td>NaN</td>\n      <td>NaN</td>\n      <td>Please call to schedule an appointment. After ...</td>\n      <td>NaN</td>\n    </tr>\n    <tr>\n      <th>1</th>\n      <td>Yes</td>\n      <td>2</td>\n      <td>South Georgian Bay Regional Assessment Centre</td>\n      <td>NaN</td>\n      <td>Georgian Bay Family Health Team</td>\n      <td>NaN</td>\n      <td>Collingwood</td>\n      <td>490 Ontario Street</td>\n      <td>NaN</td>\n      <td>L9Y 1N6</td>\n      <td>...</td>\n      <td>0m</td>\n      <td>NaN</td>\n      <td>No</td>\n      <td>No</td>\n      <td>NaN</td>\n      <td>No</td>\n      <td>Yes</td>\n      <td>Yes</td>\n      <td>Located in the back parking lot Royal Canadian...</td>\n      <td>Situé dans la tente dans le stationnement de l...</td>\n    </tr>\n    <tr>\n      <th>2</th>\n      <td>Yes</td>\n      <td>3</td>\n      <td>Midland Assessment Centre</td>\n      <td>Midland Assessment Centre</td>\n      <td>Georgian Bay General Hospital</td>\n      <td>Hôpital général de la baie Georgienne</td>\n      <td>Midland</td>\n      <td>1156 St. Andrews Drive</td>\n      <td>NaN</td>\n      <td>L4R 4P4</td>\n      <td>...</td>\n      <td>0m</td>\n      <td>NaN</td>\n      <td>Yes</td>\n      <td>No</td>\n      <td>NaN</td>\n      <td>Yes</td>\n      <td>NaN</td>\n      <td>Yes</td>\n      <td>Please call to schedule an appointment after c...</td>\n      <td>NaN</td>\n    </tr>\n    <tr>\n      <th>3</th>\n      <td>Yes</td>\n      <td>4</td>\n      <td>Milton District Hospital</td>\n      <td>Hôpital du district de Milton</td>\n      <td>Halton Healthcare Services</td>\n      <td>Halton Healthcare Services</td>\n      <td>Milton</td>\n      <td>725 Bronte Street South</td>\n      <td>725 rue Bronte Sud</td>\n      <td>L9T 9K1</td>\n      <td>...</td>\n      <td>0m</td>\n      <td>NaN</td>\n      <td>No</td>\n      <td>No</td>\n      <td>NaN</td>\n      <td>Yes</td>\n      <td>NaN</td>\n      <td>Yes</td>\n      <td>Arrive at scheduled time (no more than 5 minut...</td>\n      <td>NaN</td>\n    </tr>\n    <tr>\n      <th>4</th>\n      <td>Yes</td>\n      <td>5</td>\n      <td>Oakville Trafalgar Memorial Hospital</td>\n      <td>Oakville Trafalger Memorial Hospital</td>\n      <td>Halton Healthcare Services</td>\n      <td>Halton Healthcare Services</td>\n      <td>Oakville</td>\n      <td>3001 Hospital Gate</td>\n      <td>3001 Hospital Gate</td>\n      <td>L6M 0L8</td>\n      <td>...</td>\n      <td>0m</td>\n      <td>NaN</td>\n      <td>No</td>\n      <td>No</td>\n      <td>NaN</td>\n      <td>Yes</td>\n      <td>NaN</td>\n      <td>Yes</td>\n      <td>Please call to schedule an appointment. Arrive...</td>\n      <td>NaN</td>\n    </tr>\n    <tr>\n      <th>...</th>\n      <td>...</td>\n      <td>...</td>\n      <td>...</td>\n      <td>...</td>\n      <td>...</td>\n      <td>...</td>\n      <td>...</td>\n      <td>...</td>\n      <td>...</td>\n      <td>...</td>\n      <td>...</td>\n      <td>...</td>\n      <td>...</td>\n      <td>...</td>\n      <td>...</td>\n      <td>...</td>\n      <td>...</td>\n      <td>...</td>\n      <td>...</td>\n      <td>...</td>\n      <td>...</td>\n    </tr>\n    <tr>\n      <th>2760</th>\n      <td>Yes</td>\n      <td>2783</td>\n      <td>SHN Covid-19 Assessment Centre - Birchmount</td>\n      <td>NaN</td>\n      <td>Scarborough Health Network - Birchmount Hospital</td>\n      <td>NaN</td>\n      <td>Toronto</td>\n      <td>3030 Birchmount Road</td>\n      <td>NaN</td>\n      <td>M1W 3W3</td>\n      <td>...</td>\n      <td>6m</td>\n      <td>NaN</td>\n      <td>Yes</td>\n      <td>NaN</td>\n      <td>NaN</td>\n      <td>NaN</td>\n      <td>NaN</td>\n      <td>NaN</td>\n      <td>NaN</td>\n      <td>NaN</td>\n    </tr>\n    <tr>\n      <th>2761</th>\n      <td>NaN</td>\n      <td>2784</td>\n      <td>Rexall Specialty</td>\n      <td>NaN</td>\n      <td>NaN</td>\n      <td>NaN</td>\n      <td>London</td>\n      <td>845 Consortium Court, Unit 841</td>\n      <td>NaN</td>\n      <td>N6E 2S8</td>\n      <td>...</td>\n      <td>NaN</td>\n      <td>NaN</td>\n      <td>NaN</td>\n      <td>NaN</td>\n      <td>NaN</td>\n      <td>NaN</td>\n      <td>NaN</td>\n      <td>NaN</td>\n      <td>NaN</td>\n      <td>NaN</td>\n    </tr>\n    <tr>\n      <th>2762</th>\n      <td>NaN</td>\n      <td>2785</td>\n      <td>Silverheights Pharmacy</td>\n      <td>NaN</td>\n      <td>NaN</td>\n      <td>NaN</td>\n      <td>Cambridge</td>\n      <td>165 Fisher Mills Road</td>\n      <td>NaN</td>\n      <td>N3C 1E1</td>\n      <td>...</td>\n      <td>NaN</td>\n      <td>NaN</td>\n      <td>NaN</td>\n      <td>NaN</td>\n      <td>NaN</td>\n      <td>NaN</td>\n      <td>NaN</td>\n      <td>NaN</td>\n      <td>NaN</td>\n      <td>NaN</td>\n    </tr>\n    <tr>\n      <th>2763</th>\n      <td>NaN</td>\n      <td>2786</td>\n      <td>McKenzie's IDA Pharmacy</td>\n      <td>NaN</td>\n      <td>NaN</td>\n      <td>NaN</td>\n      <td>Wiarton</td>\n      <td>608 Berford Street</td>\n      <td>NaN</td>\n      <td>N0H 2T0</td>\n      <td>...</td>\n      <td>NaN</td>\n      <td>NaN</td>\n      <td>NaN</td>\n      <td>NaN</td>\n      <td>NaN</td>\n      <td>NaN</td>\n      <td>NaN</td>\n      <td>NaN</td>\n      <td>NaN</td>\n      <td>NaN</td>\n    </tr>\n    <tr>\n      <th>2764</th>\n      <td>Yes</td>\n      <td>2787</td>\n      <td>Rockcliffe Smythe Pop Up Testing</td>\n      <td>NaN</td>\n      <td>Access Alliance</td>\n      <td>NaN</td>\n      <td>Toronto</td>\n      <td>761 Jane Street</td>\n      <td>NaN</td>\n      <td>M6N 4B4</td>\n      <td>...</td>\n      <td>NaN</td>\n      <td>NaN</td>\n      <td>NaN</td>\n      <td>NaN</td>\n      <td>NaN</td>\n      <td>NaN</td>\n      <td>NaN</td>\n      <td>NaN</td>\n      <td>Open Wednesday June 2, June 9, June 16, June 3...</td>\n      <td>NaN</td>\n    </tr>\n  </tbody>\n</table>\n<p>2765 rows × 50 columns</p>\n</div>"
     },
     "metadata": {},
     "execution_count": 19
    }
   ],
   "source": [
    "assessment_centre_df"
   ]
  },
  {
   "cell_type": "code",
   "execution_count": 20,
   "metadata": {},
   "outputs": [
    {
     "output_type": "execute_result",
     "data": {
      "text/plain": [
       "active                       2030\n",
       "location_id                     0\n",
       "location_name                   0\n",
       "location_name_fr             2618\n",
       "operated_by                  2002\n",
       "operated_by_fr               2604\n",
       "city                            0\n",
       "address                         2\n",
       "address_fr                   2422\n",
       "postal_code                     0\n",
       "province                        0\n",
       "latitude                        1\n",
       "longitude                       1\n",
       "phu_id                       2601\n",
       "phu                             0\n",
       "phu_fr                       2386\n",
       "phone                        1319\n",
       "website                       216\n",
       "monday                         40\n",
       "tuesday                        40\n",
       "wednesday                      35\n",
       "thursday                       42\n",
       "friday                         38\n",
       "saturday                      116\n",
       "sunday                        220\n",
       "after_hours                  2716\n",
       "appointments                    2\n",
       "walk_ins                       29\n",
       "drive_through                2532\n",
       "children_under_2             2603\n",
       "accessible                   2634\n",
       "temporarily_closed           2755\n",
       "pharmacy                      246\n",
       "community_lab                2758\n",
       "assessment_centre            2527\n",
       "email                        2759\n",
       "online_appointments           380\n",
       "phone_appointments            200\n",
       "symptomatic                  2575\n",
       "general_population           2745\n",
       "age_threshold                2541\n",
       "weeks_pregnant               2763\n",
       "french_language_services     2619\n",
       "asl_interpretation           2646\n",
       "first_nations                2757\n",
       "free_parking                 2659\n",
       "paid_parking                 2736\n",
       "public_transit               2643\n",
       "additional_information       2507\n",
       "additional_information_fr    2691\n",
       "dtype: int64"
      ]
     },
     "metadata": {},
     "execution_count": 20
    }
   ],
   "source": [
    "assessment_centre_df.isnull().sum()"
   ]
  },
  {
   "cell_type": "code",
   "execution_count": 16,
   "metadata": {},
   "outputs": [],
   "source": [
    "assessment_centre_df.drop(columns=['additional_information_fr', 'additional_information'])"
   ]
  },
  {
   "cell_type": "code",
   "execution_count": 23,
   "metadata": {},
   "outputs": [
    {
     "output_type": "stream",
     "name": "stdout",
     "text": [
      "<class 'pandas.core.series.Series'>\n<class 'pandas.core.series.Series'>\n<class 'pandas.core.series.Series'>\n<class 'pandas.core.series.Series'>\n<class 'pandas.core.series.Series'>\n<class 'pandas.core.series.Series'>\n<class 'pandas.core.series.Series'>\n<class 'pandas.core.series.Series'>\n<class 'pandas.core.series.Series'>\n<class 'pandas.core.series.Series'>\n<class 'pandas.core.series.Series'>\n<class 'pandas.core.series.Series'>\n<class 'pandas.core.series.Series'>\n<class 'pandas.core.series.Series'>\n<class 'pandas.core.series.Series'>\n<class 'pandas.core.series.Series'>\n<class 'pandas.core.series.Series'>\n<class 'pandas.core.series.Series'>\n<class 'pandas.core.series.Series'>\n<class 'pandas.core.series.Series'>\n<class 'pandas.core.series.Series'>\n<class 'pandas.core.series.Series'>\n<class 'pandas.core.series.Series'>\n<class 'pandas.core.series.Series'>\n<class 'pandas.core.series.Series'>\n<class 'pandas.core.series.Series'>\n<class 'pandas.core.series.Series'>\n<class 'pandas.core.series.Series'>\n<class 'pandas.core.series.Series'>\n<class 'pandas.core.series.Series'>\n<class 'pandas.core.series.Series'>\n<class 'pandas.core.series.Series'>\n<class 'pandas.core.series.Series'>\n<class 'pandas.core.series.Series'>\n<class 'pandas.core.series.Series'>\n<class 'pandas.core.series.Series'>\n<class 'pandas.core.series.Series'>\n<class 'pandas.core.series.Series'>\n<class 'pandas.core.series.Series'>\n<class 'pandas.core.series.Series'>\n<class 'pandas.core.series.Series'>\n<class 'pandas.core.series.Series'>\n<class 'pandas.core.series.Series'>\n<class 'pandas.core.series.Series'>\n<class 'pandas.core.series.Series'>\n<class 'pandas.core.series.Series'>\n<class 'pandas.core.series.Series'>\n<class 'pandas.core.series.Series'>\n<class 'pandas.core.series.Series'>\n<class 'pandas.core.series.Series'>\n"
     ]
    }
   ],
   "source": [
    "for i in assessment_centre_df.columns:\n",
    "    print(type(assessment_centre_df[i]))"
   ]
  },
  {
   "cell_type": "code",
   "execution_count": 27,
   "metadata": {},
   "outputs": [
    {
     "output_type": "execute_result",
     "data": {
      "text/plain": [
       "2030"
      ]
     },
     "metadata": {},
     "execution_count": 27
    }
   ],
   "source": [
    "assessment_centre_df['active'].isnull().sum()"
   ]
  },
  {
   "cell_type": "code",
   "execution_count": null,
   "metadata": {},
   "outputs": [],
   "source": []
  }
 ]
}